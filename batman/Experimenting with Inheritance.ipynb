{
 "cells": [
  {
   "cell_type": "code",
   "execution_count": 6,
   "metadata": {
    "collapsed": true
   },
   "outputs": [],
   "source": [
    "%matplotlib inline\n",
    "\n",
    "import numpy as np\n",
    "import matplotlib.pyplot as plt\n"
   ]
  },
  {
   "cell_type": "code",
   "execution_count": 26,
   "metadata": {},
   "outputs": [],
   "source": [
    "import batman\n",
    "\n",
    "class ElCurveParams(batman.TransitParams):\n",
    "    \"\"\"\n",
    "        Object to store the physical parameters of the transiting planetary system. \n",
    "        Based on Kreidberg's batman.TransitParams\n",
    "\n",
    "        :param t0: Time of inferior conjunction. \n",
    "        :type t0: float, optional \n",
    "\n",
    "        :param t_secondary: Time of secondary eclipse center.\n",
    "        :type t_secondary: float, optional \n",
    "\n",
    "        :param per: Orbital period.\n",
    "        :type per: float\n",
    "\n",
    "        :param rp: Planet radius [in stellar radii].\n",
    "        :type rp: float\n",
    "\n",
    "        :param a: Semi-major axis [in stellar radii].\n",
    "        :type a: float\n",
    "\n",
    "        :param inc: Orbital inclination [in degrees].\n",
    "        :type inc: float\n",
    "\n",
    "        :param ecc: Orbital eccentricity.\n",
    "        :type ecc: float\n",
    "\n",
    "        :param w: Argument of periapse [in degrees]\n",
    "        :type w: float\n",
    "\n",
    "        :param u: List of limb darkening coefficients.\n",
    "        :type u: array_like \n",
    "\n",
    "        :param limb_dark: Limb darkening model (choice of \"nonlinear\", \"quadratic\", \"exponential\", \"logarithmic\", \"squareroot\", \"linear\", \"uniform\", \"power2\", or \"custom\").\n",
    "        :type limb_dark: str\n",
    "\n",
    "        :param fp: Planet-to-star flux ratio (for secondary eclipse models).\n",
    "        :type fp: float, optional\n",
    "\n",
    "        .. note::  \n",
    "                - Units for the orbital period and ephemeris can be anything as long as they are consistent (e.g. both in days). \n",
    "                - The orbital path is calculated based on `t0` for primary transits and `t_secondary` for secondary eclipses.\n",
    "\n",
    "        :Example:\n",
    "        \n",
    "        >>> import batman\n",
    "        >>> params = batman.TransitParams()\n",
    "        >>> params.t0 = 0.                              #time of inferior conjunction\n",
    "        >>> params.per = 1.                             #orbital period \n",
    "        >>> params.rp = 0.1                             #planet radius (in units of stellar radii)\n",
    "        >>> params.a = 15.                              #semi-major axis (in units of stellar radii)\n",
    "        >>> params.inc = 87.                            #orbital inclination (in degrees)       \n",
    "        >>> params.ecc = 0.                             #eccentricity   \n",
    "        >>> params.w = 90.                              #longitude of periastron (in degrees) \n",
    "        >>> params.u = [0.1, 0.3]                       #limb darkening coefficients\n",
    "        >>> params.limb_dark = \"quadratic\"              #limb darkening model\n",
    "    \"\"\"\n",
    "\n",
    "    def __init__(self):\n",
    "        batman.TransitParams.__init__(self)\n",
    "        \n",
    "        #Add parameters needed for calculating planetary phase curve and ellipsoidal variation\n",
    "        self.ev_amp = 0. #amplitude of the ellipsoidal variation\n",
    "        self.beam_amp = 0. #amplitude of the beaming signal\n",
    "        self.pc_amp = 0. #amplitude of the planet's phase curve, reflected + emitted component\n",
    "        \n",
    "    def elcurve(self, params):\n",
    "        \"\"\"\n",
    "        Calculate a model light curve including transit, ellipsoidal variations, planetary phase curve, \n",
    "        the beaming signal, and an eclipse.\n",
    "\n",
    "        :param params: system parameters\n",
    "        :type params: An `ElPhaseCurveParams` instance\n",
    "\n",
    "        :return: Relative flux \n",
    "        :rtype: ndarray\n",
    "\n",
    "        :Example:\n",
    "\n",
    "        >>> flux = m.el_curve(params)\n",
    "        \"\"\"\n",
    "\n",
    "        return None #for now\n",
    "        "
   ]
  },
  {
   "cell_type": "code",
   "execution_count": 32,
   "metadata": {},
   "outputs": [
    {
     "name": "stdout",
     "output_type": "stream",
     "text": [
      "{'a': None, 'fp': None, 'ecc': None, 't_secondary': None, 'limb_dark': None, 'per': None, 'beam_amp': 0.0, 'u': None, 't0': None, 'w': None, 'ev_amp': 0.0, 'rp': None, 'pc_amp': 0.0, 'inc': None}\n"
     ]
    }
   ],
   "source": [
    "el = ElCurveParams()\n",
    "print(el.__dict__)"
   ]
  }
 ],
 "metadata": {
  "kernelspec": {
   "display_name": "Python 2",
   "language": "python",
   "name": "python2"
  },
  "language_info": {
   "codemirror_mode": {
    "name": "ipython",
    "version": 2
   },
   "file_extension": ".py",
   "mimetype": "text/x-python",
   "name": "python",
   "nbconvert_exporter": "python",
   "pygments_lexer": "ipython2",
   "version": "2.7.13"
  }
 },
 "nbformat": 4,
 "nbformat_minor": 2
}
